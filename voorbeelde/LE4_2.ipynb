{
  "nbformat": 4,
  "nbformat_minor": 0,
  "metadata": {
    "colab": {
      "provenance": []
    },
    "kernelspec": {
      "name": "python3",
      "display_name": "Python 3"
    },
    "language_info": {
      "name": "python"
    }
  },
  "cells": [
    {
      "cell_type": "markdown",
      "source": [
        "# Leereenheid 4.2\n",
        "\n",
        "## Transformeer data na formate wat geskik is vir analise deur toepaslike tegnieke te gebruik.\n",
        "\n",
        "### Voorbeelde van hoofstuk 9.3 in handboek"
      ],
      "metadata": {
        "id": "OCPjgmr0nayN"
      }
    },
    {
      "cell_type": "markdown",
      "source": [
        "#### **Min-Maks-Skalering**"
      ],
      "metadata": {
        "id": "zdGad10uoC-V"
      }
    },
    {
      "cell_type": "code",
      "execution_count": null,
      "metadata": {
        "id": "6pnEVYZmnZ8O"
      },
      "outputs": [],
      "source": [
        "from sklearn.preprocessing import MinMaxScaler\n",
        "import numpy as np\n",
        "\n",
        "# Inisialiseer die MinMaxScaler\n",
        "skaler = MinMaxScaler()\n",
        "\n",
        "# Skep 'n voorbeeld datastel ('n Python-lys van lyste)\n",
        "data = [[3, 4], [1, -1], [4, 3], [0, 2]]\n",
        "\n",
        "# Pas die skaler aan die data en transformeer dit\n",
        "geskaalde_data = skaler.fit_transform(data)\n",
        "\n",
        "# Druk die geskaalde data\n",
        "print(geskaalde_data)"
      ]
    },
    {
      "cell_type": "markdown",
      "source": [
        "#### **Standaardisering**"
      ],
      "metadata": {
        "id": "jdGllXAJoGxO"
      }
    },
    {
      "cell_type": "code",
      "source": [
        "from sklearn.preprocessing import StandardScaler\n",
        "import numpy as np\n",
        "\n",
        "# Inisialiseer die StandardScaler\n",
        "skaler = StandardScaler()\n",
        "\n",
        "# Skep 'n voorbeeld datastel ('n Python-lys van lyste)\n",
        "data = [[3, 4], [1, -1], [4, 3], [0, 2]]\n",
        "\n",
        "# Pas die skaler aan die data en transformeer dit\n",
        "geskaalde_data = skaler.fit_transform(data)\n",
        "\n",
        "# Druk die geskaalde data\n",
        "print(geskaalde_data)"
      ],
      "metadata": {
        "id": "SB5LhdGioL9r"
      },
      "execution_count": null,
      "outputs": []
    },
    {
      "cell_type": "markdown",
      "source": [
        "#### **Logaritmiese Transformasie**"
      ],
      "metadata": {
        "id": "8qoTYgDnoUj8"
      }
    },
    {
      "cell_type": "code",
      "source": [
        "import numpy as np\n",
        "\n",
        "# Skep 'n NumPy-skikking\n",
        "data = np.array([1, 2, 3, 4, 5])\n",
        "\n",
        "# Pas 'n logaritmiese transformasie toe\n",
        "log_getransformeerde_data = np.log(data)\n",
        "\n",
        "# Druk die log-getransformeerde data\n",
        "print(log_getransformeerde_data)"
      ],
      "metadata": {
        "id": "2GsrFFcwoeok"
      },
      "execution_count": null,
      "outputs": []
    },
    {
      "cell_type": "markdown",
      "source": [
        "#### **Een-uit-N kodering**"
      ],
      "metadata": {
        "id": "xqiLYZF8okdB"
      }
    },
    {
      "cell_type": "code",
      "source": [
        "import pandas as pd\n",
        "\n",
        "# Skep 'n eenvoudige DataFrame\n",
        "data = {'Dier': ['Hond', 'Kat', 'Perd']}\n",
        "df = pd.DataFrame(data)\n",
        "\n",
        "# Voer een-warm kodering uit op die 'Dier'-kolom\n",
        "een_n = pd.get_dummies(df['Dier'])\n",
        "\n",
        "# Druk die resultaat van die een-warm kodering\n",
        "print(een_n)"
      ],
      "metadata": {
        "id": "8KutnLFbokQy"
      },
      "execution_count": null,
      "outputs": []
    },
    {
      "cell_type": "markdown",
      "source": [
        "#### **Polinoomkenmerke**"
      ],
      "metadata": {
        "id": "zhGS-jT-ov-3"
      }
    },
    {
      "cell_type": "code",
      "source": [
        "from sklearn.preprocessing import PolynomialFeatures\n",
        "\n",
        "# Inisialiseer PolynomialFeatures met graad 2\n",
        "poli = PolynomialFeatures(degree=2)\n",
        "\n",
        "# Skep 'n voorbeeld datastel\n",
        "data = [[1, 2], [2, 3], [3, 4]]\n",
        "\n",
        "# Pas die transformasie toe en transformeer die data\n",
        "getransformeerde_data = poli.fit_transform(data)\n",
        "\n",
        "# Druk die getransformeerde data\n",
        "print(getransformeerde_data)"
      ],
      "metadata": {
        "id": "1oTPrpNWo6at"
      },
      "execution_count": null,
      "outputs": []
    },
    {
      "cell_type": "markdown",
      "source": [
        "#### **Inverse Transformasie**"
      ],
      "metadata": {
        "id": "zaNAutG9pAc0"
      }
    },
    {
      "cell_type": "code",
      "source": [
        "import numpy as np\n",
        "from sklearn.preprocessing import MinMaxScaler\n",
        "\n",
        "# Skep 'n NumPy-skikking\n",
        "data = np.array([1, 10, 100, 1000])\n",
        "\n",
        "# Pas 'n log basis-10 transformasie toe\n",
        "log_data = np.log10(data)\n",
        "\n",
        "# Voer die inverse transformasie uit (10 tot die mag van die log-data)\n",
        "inverse_transformasie = 10 ** log_data\n",
        "\n",
        "# Inisialiseer die MinMaxScaler\n",
        "skaler = MinMaxScaler()\n",
        "\n",
        "# Skaal die data na 'n reeks tussen 0 en 1 (herform die 1D-skikking na 'n 2D-skikking)\n",
        "geskaalde_data = skaler.fit_transform(data.reshape(-1, 1))\n",
        "\n",
        "# Voer die inverse transformasie uit om die oorspronklike data terug te kry\n",
        "oorspronklike_data = skaler.inverse_transform(geskaalde_data)\n",
        "\n",
        "# Druk die resultate\n",
        "print(\"Oorspronklike data:\", data)\n",
        "print(\"Log getransformeerde data (basis 10):\", log_data)\n",
        "print(\"Inverse log transformasie:\", inverse_transformasie)\n",
        "print(\"Geskaleerde data (MinMaxScaler):\", geskaalde_data)\n",
        "print(\"Inverse MinMaxScaler transformasie:\", oorspronklike_data)"
      ],
      "metadata": {
        "id": "UiTr404kpDuL"
      },
      "execution_count": null,
      "outputs": []
    }
  ]
}