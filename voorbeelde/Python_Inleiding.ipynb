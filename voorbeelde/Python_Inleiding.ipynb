{
  "nbformat": 4,
  "nbformat_minor": 0,
  "metadata": {
    "colab": {
      "provenance": []
    },
    "kernelspec": {
      "name": "python3",
      "display_name": "Python 3"
    },
    "language_info": {
      "name": "python"
    }
  },
  "cells": [
    {
      "cell_type": "markdown",
      "source": [
        "# Inleiding tot Python\n",
        "\n",
        "Hierdie notaboek is bedoel vir die eerstejaar BCom (Rekeningkunde) studente se Data-analise klas (NGRDA150).\n",
        "\n",
        "## 1. Wat is Python?\n",
        "Python is 'n maklik-om-te-leer programmeertaal wat in baie verskillende toepassings gebruik word, insluitend finansies en rekeningkunde. Python word ook baie gebruik in moderne masjienleer om KI modelle te leer.\n",
        "\n",
        "## 2. Hoe werk Google Colab?\n",
        "Google Colab laat jou toe om Python-kode direk in jou webblaaier te skryf en uit te voer. Druk `Shift + Enter` om 'n kodeblok uit te voer.\n",
        "\n",
        "---\n",
        "\n",
        "## **Basiese Python Sintaksis**\n",
        "### 1. Jou eerste Python-program\n",
        "Kom ons begin deur 'n eenvoudige boodskap uit te druk:\n"
      ],
      "metadata": {
        "id": "BosAyNCzAC2X"
      }
    },
    {
      "cell_type": "code",
      "source": [
        "# Druk 'n boodskap uit\n",
        "print(\"Hallo, wêreld!\")"
      ],
      "metadata": {
        "id": "gzlMVOg9Bc9m"
      },
      "execution_count": null,
      "outputs": []
    },
    {
      "cell_type": "markdown",
      "source": [
        "**Oefening 1:** Verander die boodskap na \"Hallo, ek leer Python!\"\n",
        "\n",
        "---\n",
        "\n",
        "### 2. Kommentaar in Python\n",
        "Kommentaar help om kode te verduidelik. Hulle begin met `#` of word tussen drie aanhalingstekens (`'''` of \"\"\") geplaas.\n"
      ],
      "metadata": {
        "id": "1nB7bwreB27X"
      }
    },
    {
      "cell_type": "code",
      "source": [
        "\n",
        "# Dit is 'n enkellyn kommentaar\n",
        "\n",
        "\"\"\"\n",
        "Dit is 'n meerlyn kommentaar.\n",
        "Jy kan dit gebruik om lang verduidelikings in jou kode te skryf.\n",
        "\"\"\""
      ],
      "metadata": {
        "id": "g97AZPzPC2ej"
      },
      "execution_count": null,
      "outputs": []
    },
    {
      "cell_type": "markdown",
      "source": [
        "\n",
        "### 3. Veranderlikes en Datatipes\n",
        "Veranderlikes stoor data. Python herken verskillende tipes data soos stringe (teks), heelgetalle, desimale en booleans (waar/onwaar).\n"
      ],
      "metadata": {
        "id": "lEb4YuhYC5GU"
      }
    },
    {
      "cell_type": "code",
      "source": [
        "# String (teks)\n",
        "naam = \"Aby\"\n",
        "print(\"Hallo, \" + naam)\n",
        "\n",
        "# Heelgetal\n",
        "ouderdom = 20\n",
        "print(\"Ek is\", ouderdom, \"jaar oud.\")\n",
        "\n",
        "# Desimale getal\n",
        "prys = 19.99\n",
        "print(\"Die prys is R\", prys)\n",
        "\n",
        "# Boolean (Waar of Onwaar)\n",
        "is_student = True\n",
        "print(\"Is ek 'n student?\", is_student)"
      ],
      "metadata": {
        "id": "B6S-Fay1CbvD"
      },
      "execution_count": null,
      "outputs": []
    },
    {
      "cell_type": "markdown",
      "source": [
        "### 4. Basiese Wiskundige Bewerkings\n",
        "Python kan vir ons somme doen.\n",
        "\n"
      ],
      "metadata": {
        "id": "-XxUnwZNCiYh"
      }
    },
    {
      "cell_type": "code",
      "source": [
        "\n",
        "# Optelling en aftrekking\n",
        "a = 17\n",
        "b = 5\n",
        "print(\"Optelling:\", a + b)\n",
        "print(\"Aftrekking:\", a - b)\n",
        "\n",
        "# Vermenigvuldiging en deling\n",
        "print(\"Vermenigvuldiging:\", a * b)\n",
        "print(\"Deling:\", a / b)\n",
        "\n",
        "# Modulus (oorblyfsel na deling)\n",
        "print(\"Modulus:\", a % b)"
      ],
      "metadata": {
        "id": "BIV9DlNbCr66"
      },
      "execution_count": null,
      "outputs": []
    },
    {
      "cell_type": "markdown",
      "source": [
        "### 5. Interaktiewe Invoer\n",
        "Gebruik `input()` om data van die gebruiker te kry."
      ],
      "metadata": {
        "id": "yP2IFmKVDQUm"
      }
    },
    {
      "cell_type": "code",
      "source": [
        "naam = input(\"Wat is jou naam? \")\n",
        "print(\"Hallo, \" + naam + \"! Lekker om jou hier te hê.\")"
      ],
      "metadata": {
        "id": "JomUJmD-DXEH"
      },
      "execution_count": null,
      "outputs": []
    },
    {
      "cell_type": "markdown",
      "source": [
        "Dit is die basiese inleiding.\n",
        "\n",
        "Hier is nog 'n paar bronne wat julle kan deurgaan om meer vertroud te word met Python:\n",
        "\n",
        "\n",
        "*   https://www.marqo.ai/blog/getting-started-with-google-colab-a-beginners-guide\n",
        "\n",
        "*  https://techbeamers.com/python-syntax/\n",
        "\n",
        "\n",
        "\n"
      ],
      "metadata": {
        "id": "XjnVH_oJDaSE"
      }
    }
  ]
}