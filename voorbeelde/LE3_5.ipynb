{
  "nbformat": 4,
  "nbformat_minor": 0,
  "metadata": {
    "colab": {
      "provenance": []
    },
    "kernelspec": {
      "name": "python3",
      "display_name": "Python 3"
    },
    "language_info": {
      "name": "python"
    }
  },
  "cells": [
     {
      "cell_type": "markdown",
      "source": [
      "# Leereenheid 3.5 Identifiseer en spreek vooroordele aan."
      ],
      "metadata": {
        "id": "s-e_cn14mbEe"
      }
    },
    {
      "cell_type": "code",
      "execution_count": null,
      "metadata": {
        "id": "Gntt5_b0r5fs"
      },
      "outputs": [],
      "source": [
        "# Trek data vanaf die web\n",
        "\n",
        "!wget https://raw.githubusercontent.com/aby-akademia/NGRDA150-2025/refs/heads/main/datastelle/verkope_met_foute_en_winkels.csv"
      ]
    },
    {
      "cell_type": "code",
      "source": [
        "# Laai die Pandas biblioteek\n",
        "\n",
        "import pandas as pd"
      ],
      "metadata": {
        "id": "_ycaqcBxsNhT"
      },
      "execution_count": null,
      "outputs": []
    },
    {
      "cell_type": "code",
      "source": [
        "# Laai die data\n",
        "\n",
        "data = pd.read_csv(\"verkope_met_foute_en_winkels.csv\")"
      ],
      "metadata": {
        "id": "UvXXbv8YsPYj"
      },
      "execution_count": null,
      "outputs": []
    },
    {
      "cell_type": "code",
      "source": [
        "# 1. Kyk na die verdeling per winkel\n",
        "\n",
        "print(\"Verdeling per winkel:\")\n",
        "print(data[\"Winkel\"].value_counts())"
      ],
      "metadata": {
        "id": "igCudyNBsT4v"
      },
      "execution_count": null,
      "outputs": []
    },
    {
      "cell_type": "code",
      "source": [
        "# 2. Kyk na produkte per winkel\n",
        "\n",
        "print(\"\\nProdukte per winkel:\")\n",
        "print(data.groupby(\"Winkel\")[\"Produk\"].value_counts(dropna=False))"
      ],
      "metadata": {
        "id": "PO68_y2YsWYy"
      },
      "execution_count": null,
      "outputs": []
    },
    {
      "cell_type": "code",
      "source": [
        "# 3. Gemiddelde hoeveelheid per winkel\n",
        "\n",
        "print(\"\\nGemiddelde hoeveelheid per winkel:\")\n",
        "print(data.groupby(\"Winkel\")[\"Hoeveelheid\"].mean())"
      ],
      "metadata": {
        "id": "Dua5-gWvsZiE"
      },
      "execution_count": null,
      "outputs": []
    }
  ]
}