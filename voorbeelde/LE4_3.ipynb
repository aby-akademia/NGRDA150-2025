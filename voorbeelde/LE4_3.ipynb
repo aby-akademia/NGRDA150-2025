{
  "nbformat": 4,
  "nbformat_minor": 0,
  "metadata": {
    "colab": {
      "provenance": []
    },
    "kernelspec": {
      "name": "python3",
      "display_name": "Python 3"
    },
    "language_info": {
      "name": "python"
    }
  },
  "cells": [
    {
      "cell_type": "markdown",
      "source": [
        "# Leereenheid 4.3\n",
        "## Skep nuwe kenmerke uit bestaande data om modelprestasie te verbeter en evalueer die impak van hierdie kenmerke.\n",
        "\n",
        "### Voorbeelde van hoofstuk 9.2 in handboek"
      ],
      "metadata": {
        "id": "7AAncuOknC8l"
      }
    },
    {
      "cell_type": "markdown",
      "source": [
        "#### **Polinoomkenmerke**"
      ],
      "metadata": {
        "id": "OiexKxiwkzTe"
      }
    },
    {
      "cell_type": "code",
      "execution_count": null,
      "metadata": {
        "id": "_k_dI0AFkL9o"
      },
      "outputs": [],
      "source": [
        "import pandas as pd\n",
        "from sklearn.preprocessing import PolynomialFeatures\n",
        "import numpy as np\n",
        "\n",
        "# Skep 'n eenvoudige DataFrame X\n",
        "data = {'Kenmerk_1': [1, 2, 3, 4],\n",
        "        'Kenmerk_2': [5, 6, 7, 8]}\n",
        "X = pd.DataFrame(data)\n",
        "\n",
        "# Wys die oorspronklike DataFrame X\n",
        "print(\"Oorspronklike DataFrame X:\")\n",
        "print(X)\n",
        "\n",
        "# Inisialiseer PolynomialFeatures met graad 2\n",
        "poly = PolynomialFeatures(degree=2)\n",
        "\n",
        "# Pas die transformasie aan X en transformeer dit\n",
        "X_poly = poly.fit_transform(X)\n",
        "\n",
        "# Skakel die resultaat om na 'n DataFrame vir beter leesbaarheid\n",
        "kolom_name = poly.get_feature_names_out(['Kenmerk_1', 'Kenmerk_2'])\n",
        "df_poly = pd.DataFrame(X_poly, columns=kolom_name)\n",
        "\n",
        "# Wys die getransformeerde DataFrame X_poly\n",
        "print(\"\\nGetransformeerde DataFrame X_poly (graad 2):\")\n",
        "print(df_poly)"
      ]
    },
    {
      "cell_type": "markdown",
      "source": [
        "#### **Interaksiekenmerke**"
      ],
      "metadata": {
        "id": "2KC5YzMWk43J"
      }
    },
    {
      "cell_type": "code",
      "source": [
        "# Skep 'n eenvoudige DataFrame\n",
        "data = {'kenmerk1': [1, 2, 3, 4, 5],\n",
        "        'kenmerk2': [10, 20, 30, 40, 50]}\n",
        "df = pd.DataFrame(data)\n",
        "\n",
        "# Wys die oorspronklike DataFrame\n",
        "print(\"Oorspronklike DataFrame:\")\n",
        "print(df)\n",
        "\n",
        "# Skep 'n nuwe kenmerk deur twee bestaande kenmerke te vermenigvuldig\n",
        "df['interaksie_kenmerk'] = df['kenmerk1'] * df['kenmerk2']\n",
        "\n",
        "# Wys die DataFrame met die nuwe interaksie-kenmerk\n",
        "print(\"\\nDataFrame met die nuwe interaksie-kenmerk:\")\n",
        "print(df)"
      ],
      "metadata": {
        "id": "xfjCe6epk7X5"
      },
      "execution_count": null,
      "outputs": []
    },
    {
      "cell_type": "markdown",
      "source": [
        "#### **Diskretisering (Binning)**"
      ],
      "metadata": {
        "id": "T4Fb04CflNyQ"
      }
    },
    {
      "cell_type": "code",
      "source": [
        "# Skep 'n eenvoudige DataFrame met 'n 'age'-kolom\n",
        "data = {'naam': ['Anna', 'Pieter', 'Klara', 'Jan', 'Sarel'],\n",
        "        'age': [25, 32, 45, 28, 51]}\n",
        "df = pd.DataFrame(data)\n",
        "\n",
        "# Wys die oorspronklike DataFrame\n",
        "print(\"Oorspronklike DataFrame:\")\n",
        "print(df)\n",
        "\n",
        "# Definieer die intervalle (bins) en etikette\n",
        "bins = [20, 30, 40, 50, 60]\n",
        "labels = ['20-29', '30-39', '40-49', '50-59']\n",
        "\n",
        "# Verdeel die 'age'-kolom in intervalle\n",
        "df['age_groep'] = pd.cut(df['age'], bins=bins, labels=labels, right=False)\n",
        "\n",
        "# Wys die DataFrame met die nuwe 'age_groep'-kolom\n",
        "print(\"\\nDataFrame met die 'age_groep'-kolom:\")\n",
        "print(df)\n"
      ],
      "metadata": {
        "id": "4FZnjztulP2R"
      },
      "execution_count": null,
      "outputs": []
    },
    {
      "cell_type": "markdown",
      "source": [
        "#### **Een-uit-N kodering**"
      ],
      "metadata": {
        "id": "Kp4ZaZoHlhvC"
      }
    },
    {
      "cell_type": "code",
      "source": [
        "# Skep 'n eenvoudige DataFrame met 'n 'species'-kolom\n",
        "data = {'naam': ['Anna', 'Pieter', 'Klara'],\n",
        "        'species': ['Kat', 'Hond', 'Kat']}\n",
        "df = pd.DataFrame(data)\n",
        "\n",
        "# Wys die oorspronklike DataFrame\n",
        "print(\"Oorspronklike DataFrame:\")\n",
        "print(df)\n",
        "\n",
        "# Voer een-warm kodering uit op die 'species'-kolom\n",
        "df = pd.get_dummies(df, columns=['species'], drop_first=True)\n",
        "\n",
        "# Wys die DataFrame na een-warm kodering van 'species':\n",
        "print(\"\\nDataFrame na een-warm kodering van 'species':\")\n",
        "print(df)"
      ],
      "metadata": {
        "id": "TJCY2BeRlhET"
      },
      "execution_count": null,
      "outputs": []
    },
    {
      "cell_type": "markdown",
      "source": [
        "#### **Herlei skaal (Scaling)**"
      ],
      "metadata": {
        "id": "ArPYPCzhl6Fr"
      }
    },
    {
      "cell_type": "code",
      "source": [
        "from sklearn.preprocessing import StandardScaler\n",
        "\n",
        "# Skep 'n eenvoudige DataFrame met numeriese kenmerke\n",
        "data = {'kenmerk1': [1, 2, 3, 4, 5],\n",
        "        'kenmerk2': [10, 20, 30, 40, 50]}\n",
        "df = pd.DataFrame(data)\n",
        "\n",
        "# Wys die oorspronklike DataFrame\n",
        "print(\"Oorspronklike DataFrame:\")\n",
        "print(df)\n",
        "\n",
        "# Inisialiseer die StandardScaler\n",
        "skaler = StandardScaler()\n",
        "\n",
        "# Pas die skaler aan die gespesifiseerde kolomme en transformeer dit\n",
        "df[['kenmerk1', 'kenmerk2']] = skaler.fit_transform(df[['kenmerk1', 'kenmerk2']])\n",
        "\n",
        "# Wys die DataFrame na standaardisering:\")\n",
        "print(\"\\nDataFrame na standaardisering:\")\n",
        "print(df)"
      ],
      "metadata": {
        "id": "VpN9wSylmCi7"
      },
      "execution_count": null,
      "outputs": []
    },
    {
      "cell_type": "markdown",
      "source": [
        "#### **Logaritmiese transformasie**"
      ],
      "metadata": {
        "id": "ySytbccWmJx-"
      }
    },
    {
      "cell_type": "code",
      "source": [
        "import pandas as pd\n",
        "import numpy as np\n",
        "\n",
        "# Skep 'n eenvoudige DataFrame met 'n kenmerk\n",
        "data = {'kenmerk1': [1, 2, 10, 20, 100]}\n",
        "df = pd.DataFrame(data)\n",
        "\n",
        "# Wys die oorspronklike DataFrame\n",
        "print(\"Oorspronklike DataFrame:\")\n",
        "print(df)\n",
        "\n",
        "# Pas 'n logaritmiese transformasie toe\n",
        "df['log_kenmerk1'] = np.log(df['kenmerk1'] + 1)\n",
        "\n",
        "# Wys die DataFrame na die log transformasie\n",
        "print(\"\\nDataFrame na logaritmiese transformasie:\")\n",
        "print(df)"
      ],
      "metadata": {
        "id": "EenwPiJzmQI1"
      },
      "execution_count": null,
      "outputs": []
    },
    {
      "cell_type": "markdown",
      "source": [
        "#### **Kenmerkbelangrikheid (Feature Importance)**"
      ],
      "metadata": {
        "id": "LQ9ncOd7mgU7"
      }
    },
    {
      "cell_type": "code",
      "source": [
        "import pandas as pd\n",
        "from sklearn.ensemble import RandomForestClassifier\n",
        "from sklearn.model_selection import train_test_split\n",
        "from sklearn.datasets import make_classification\n",
        "import matplotlib.pyplot as plt\n",
        "import seaborn as sns  # Vir 'n mooier styl (opsioneel)\n",
        "\n",
        "# Skep 'n voorbeeld datastel vir klassifikasie\n",
        "X, y = make_classification(n_samples=100, n_features=5, n_informative=3, n_redundant=0, random_state=42)\n",
        "X = pd.DataFrame(X, columns=['kenmerk1', 'kenmerk2', 'kenmerk3', 'kenmerk4', 'kenmerk5'])\n",
        "y = pd.Series(y)\n",
        "\n",
        "# Verdeel die datastel in oefen- en toetsstelle\n",
        "X_oefen, X_toets, y_oefen, y_toets = train_test_split(X, y, test_size=0.2, random_state=42)\n",
        "\n",
        "# Skep 'n RandomForestClassifier\n",
        "clf = RandomForestClassifier(random_state=42)\n",
        "\n",
        "# Pas die klassifiseerder aan die oefendata\n",
        "clf.fit(X_oefen, y_oefen)\n",
        "\n",
        "# Kry die kenmerkbelangrikhede\n",
        "kenmerk_belangrikhede = clf.feature_importances_\n",
        "\n",
        "# Skep 'n DataFrame om kenmerke en hul belangrikheid te stoor\n",
        "belangrikheid_df = pd.DataFrame({\n",
        "    'Kenmerk': X_oefen.columns,\n",
        "    'Belangrikheid': kenmerk_belangrikhede\n",
        "})\n",
        "\n",
        "# Sorteer die DataFrame volgens die belangrikhede (hoogste eerste)\n",
        "belangrikheid_gesorteer = belangrikheid_df.sort_values(by='Belangrikheid', ascending=False)\n",
        "\n",
        "# Skep 'n staafgrafiek van die kenmerkbelangrikhede\n",
        "plt.figure(figsize=(10, 6))\n",
        "sns.barplot(x='Belangrikheid', y='Kenmerk', data=belangrikheid_gesorteer)\n",
        "plt.title('Kenmerkbelangrikheid in Random Forest Model')\n",
        "plt.xlabel('Belangrikheidswaarde')\n",
        "plt.ylabel('Kenmerk')\n",
        "plt.tight_layout()\n",
        "plt.show()"
      ],
      "metadata": {
        "id": "nieMdBzYmmq-"
      },
      "execution_count": null,
      "outputs": []
    }
  ]
}