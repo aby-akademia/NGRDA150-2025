{
  "nbformat": 4,
  "nbformat_minor": 0,
  "metadata": {
    "colab": {
      "provenance": []
    },
    "kernelspec": {
      "name": "python3",
      "display_name": "Python 3"
    },
    "language_info": {
      "name": "python"
    }
  },
  "cells": [
    {
      "cell_type": "markdown",
      "source": [
        "# DA 1.3 punte\n"
      ],
      "metadata": {
        "id": "s-e_cn14mbEe"
      }
    },
    {
      "cell_type": "code",
      "source": [
        "# Trek data vanaf die web\n",
        "\n",
        "!wget https://raw.githubusercontent.com/aby-akademia/NGRDA150-2025/refs/heads/main/datastelle/DA1.3.punte.csv"
      ],
      "metadata": {
        "id": "LqTFxeHgo3yV"
      },
      "execution_count": null,
      "outputs": []
    },
    {
      "cell_type": "code",
      "execution_count": null,
      "metadata": {
        "id": "wswUfv03680q"
      },
      "outputs": [],
      "source": [
        "# Laai die Pandas biblioteek\n",
        "\n",
        "import pandas as pd"
      ]
    },
    {
      "cell_type": "code",
      "source": [
        "# Laai die data\n",
        "\n",
        "data = pd.read_csv(\"DA1.3.punte.csv\")\n",
        "print(data)"
      ],
      "metadata": {
        "id": "QmqSlQdkmacm"
      },
      "execution_count": null,
      "outputs": []
    },
    {
      "cell_type": "code",
      "source": [
        "# Beskrywende statistieke vir die totaal (Punt/10.00) en elke vraag\n",
        "\n",
        "print(\"Beskrywende statistieke:\")\n",
        "data.agg(\n",
        "    {\n",
        "        \"Punt/10.00\": [\"min\", \"max\", \"median\", \"mean\"],\n",
        "        \"V. 1 /5.00\": [\"min\", \"max\", \"median\", \"mean\"],\n",
        "        \"V. 2 /1.00\": [\"min\", \"max\", \"median\", \"mean\"],\n",
        "        \"V. 3 /1.00\": [\"min\", \"max\", \"median\", \"mean\"],\n",
        "        \"V. 4 /1.00\": [\"min\", \"max\", \"median\", \"mean\"],\n",
        "        \"V. 5 /1.00\": [\"min\", \"max\", \"median\", \"mean\"],\n",
        "        \"V. 6 /1.00\": [\"min\", \"max\", \"median\", \"mean\"],\n",
        "\n",
        "    }\n",
        ")\n"
      ],
      "metadata": {
        "id": "K3u8A8v7mXzj"
      },
      "execution_count": null,
      "outputs": []
    },
    {
      "cell_type": "code",
      "source": [
        "# Histogram van totaal\n",
        "\n",
        "data[\"Punt/10.00\"].plot.hist(bins=10)\n"
      ],
      "metadata": {
        "id": "HRCdqw6lp_OI"
      },
      "execution_count": null,
      "outputs": []
    }
  ]
}