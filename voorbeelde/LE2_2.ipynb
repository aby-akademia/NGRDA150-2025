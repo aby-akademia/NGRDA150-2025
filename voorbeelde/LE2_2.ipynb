{
  "nbformat": 4,
  "nbformat_minor": 0,
  "metadata": {
    "colab": {
      "provenance": []
    },
    "kernelspec": {
      "name": "python3",
      "display_name": "Python 3"
    },
    "language_info": {
      "name": "python"
    }
  },
  "cells": [
    {
      "cell_type": "markdown",
      "source": [
        "# Leeruitkoms 2.2 voorbeelde"
      ],
      "metadata": {
        "id": "tXO-_RKWaUTG"
      }
    },
    {
      "cell_type": "markdown",
      "source": [
        "## Python kode om die aandeelpryse van Microsoft (MSFT) van die afgelope 5 dae"
      ],
      "metadata": {
        "id": "6QcBHflXbDEj"
      }
    },
    {
      "cell_type": "code",
      "execution_count": null,
      "metadata": {
        "id": "_Nb7ShWhaIkA"
      },
      "outputs": [],
      "source": [
        "# Laai die 'yfinance' biblioteek\n",
        "import yfinance as yf"
      ]
    },
    {
      "cell_type": "code",
      "source": [
        "# Funksie om aandeeldata te kry\n",
        "def kry_aandeeldata_yfinance(simbool):\n",
        "    aandeel = yf.Ticker(simbool)\n",
        "    # Kry daaglikse data vir die afgelope vyf dae\n",
        "    data = aandeel.history(period=\"5d\")\n",
        "    print(f\"Aandeeldata vir {simbool}:\")\n",
        "    print(data.head())\n",
        "    # Wys eerste 5 rye\n",
        "    return data"
      ],
      "metadata": {
        "id": "xBoJZjv3ajcm"
      },
      "execution_count": null,
      "outputs": []
    },
    {
      "cell_type": "code",
      "source": [
        "# Toets die kode\n",
        "simbool = \"MSFT\"\n",
        "aandeeldata = kry_aandeeldata_yfinance(simbool)\n",
        "\n",
        "# Mens kan dievolgende funksie gebruik om die data na 'n CSV lêer te skryf\n",
        "# aandeeldata.to_csv(\"aandeeldata_yfinance.csv\")"
      ],
      "metadata": {
        "id": "4RGkm4rIanX6"
      },
      "execution_count": null,
      "outputs": []
    },
    {
      "cell_type": "markdown",
      "source": [
        "## Webskraping (Web scraping) voorbeeld: (gebruik die biblioteek BeautifulSoup)"
      ],
      "metadata": {
        "id": "150NKRKebHi1"
      }
    },
    {
      "cell_type": "code",
      "source": [
        "# Laai die requests-biblioteek\n",
        "# Die requests-biblioteek maak dit maklik om met 'n webbediener te kommunikeer; dit is 'n HTTP-kliënt.\n",
        "import requests\n",
        "\n",
        "# Laai die BeautifulSoup biblioteek vanaf die bs4 biblioteek (dit is binne bs4)\n",
        "# BeautifulSoup help jou om inhoud van ’n webblad maklik te lees en te verstaan.\n",
        "# Dink daaraan soos ’n hulpmiddel wat vir jou kan wys waar die belangrike inligting\n",
        "# op ’n webblad is – soos opskrifte, pryse, of name in ’n tabel.\n",
        "from bs4 import BeautifulSoup"
      ],
      "metadata": {
        "id": "B6SE3uOjbM1v"
      },
      "execution_count": null,
      "outputs": []
    },
    {
      "cell_type": "code",
      "source": [
        "# URL van die webblad wat ons wil skraap (voorbeeld: 'n eenvoudige nuuswebwerf)\n",
        "\n",
        "# Die Maroelamedia URL wil nie vir my werk vanaf Colab, so ek vra vir die nuus vanaf Slashdot\n",
        "#url = \"https://maroelamedia.co.za/kategorie/geldsake/\"\n",
        "\n",
        "url = \"https://slashdot.org/\"\n",
        "\n",
        "\n",
        "try:\n",
        "    # Stuur 'n GET versoek na die URL\n",
        "    response = requests.get(url, headers=headers)\n",
        "    # Kontroleer of die versoek suksesvol was (statuskode 200)\n",
        "    if response.status_code == 200:\n",
        "        # Skep 'n BeautifulSoup objek om die HTML te parse\n",
        "        soup = BeautifulSoup(response.content, 'html.parser')\n",
        "        # Voorbeeld: Versamel alle opskrifte (h1, h2, h3 tags)\n",
        "        headlines = soup.find_all(['h1', 'h2', 'h3'])\n",
        "        # Druk elke opskrif\n",
        "        print(\"Opgehaalde Opskrifte:\")\n",
        "        for i, headline in enumerate(headlines, 1):\n",
        "            print(f\"{i}. {headline.text.strip()}\")\n",
        "    else:\n",
        "        print(f\"Fout: Kon nie toegang kry tot die webblad nie (Status kode: {response.status_code})\")\n",
        "except requests.exceptions.RequestException as e:\n",
        "    print(f\"Kon nie verbinding maak nie: {e}\")"
      ],
      "metadata": {
        "id": "HxasDbtAbOD9"
      },
      "execution_count": null,
      "outputs": []
    },
    {
      "cell_type": "markdown",
      "source": [
        "## Lees vanaf lêers"
      ],
      "metadata": {
        "id": "EIKyTas_eEZf"
      }
    },
    {
      "cell_type": "code",
      "source": [
        "# Trek data vanaf die web\n",
        "# Hierdie is 'n Excel voorbeeld met finansiële data\n",
        "!wget https://raw.githubusercontent.com/aby-akademia/NGRDA150-2025/refs/heads/main/datastelle/grootboek.xlsx"
      ],
      "metadata": {
        "id": "b6_KymHOfkPh"
      },
      "execution_count": null,
      "outputs": []
    },
    {
      "cell_type": "code",
      "source": [
        "# Laai die Pandas biblioteek\n",
        "import pandas as pd"
      ],
      "metadata": {
        "id": "gIcpXFzGeJSi"
      },
      "execution_count": null,
      "outputs": []
    },
    {
      "cell_type": "code",
      "source": [
        "# Funksie om Excel-lêer te lees\n",
        "def lees_excel_lêer(lêernaam, bladnaam=None):\n",
        "    # Lees die Excel-lêer\n",
        "    # As bladnaam=None, lees dit die eerste blad by verstek\n",
        "    df = pd.read_excel(lêernaam, sheet_name=bladnaam)\n",
        "    # Druk die data\n",
        "    print(\"\\nData uit Excel-lêer:\")\n",
        "    print(df)\n",
        "    # Gee die DataFrame terug vir verdere gebruik\n",
        "    return df"
      ],
      "metadata": {
        "id": "O8jLrYx5eOjJ"
      },
      "execution_count": null,
      "outputs": []
    },
    {
      "cell_type": "code",
      "source": [
        "# Skep 'n voorbeeld Excel-lêer (opsioneel)\n",
        "def skep_voorbeeld_excel():\n",
        "    # Skep 'n eenvoudige DataFrame\n",
        "    data = {\n",
        "    'Naam': ['Anna', 'Ben', 'Karel'],\n",
        "    'Ouderdom': [25, 30, 28],\n",
        "    'Stad': ['Kaapstad', 'Johannesburg', 'Pretoria']\n",
        "    }\n",
        "\n",
        "    df = pd.DataFrame(data)\n",
        "    # Stoor na Excel\n",
        "    df.to_excel('voorbeeld_excel.xlsx', index=False)\n",
        "    print(\"Voorbeeld Excel-lêer geskep: 'voorbeeld_excel.xlsx'\")"
      ],
      "metadata": {
        "id": "fMOTfiLVf6Tp"
      },
      "execution_count": null,
      "outputs": []
    },
    {
      "cell_type": "code",
      "source": [
        "# Hooffunksie om te toets\n",
        "def hoof():\n",
        "    # Skep 'n voorbeeld Excel-lêer\n",
        "    skep_voorbeeld_excel()\n",
        "    # Lees die Excel-lêer\n",
        "    data = lees_excel_lêer('voorbeeld_excel.xlsx')"
      ],
      "metadata": {
        "id": "Wrts0lcff_60"
      },
      "execution_count": null,
      "outputs": []
    },
    {
      "cell_type": "code",
      "source": [
        "# Voer die hooffunksie uit\n",
        "hoof()"
      ],
      "metadata": {
        "id": "SL5Ar8IGgEad"
      },
      "execution_count": null,
      "outputs": []
    },
    {
      "cell_type": "code",
      "source": [
        "# Ons kan ook die finansiële data lees wat ons van die web afgelaai het\n",
        "grootboek_data = lees_excel_lêer('grootboek.xlsx')"
      ],
      "metadata": {
        "id": "LprUCRVgggDX"
      },
      "execution_count": null,
      "outputs": []
    }
  ]
}