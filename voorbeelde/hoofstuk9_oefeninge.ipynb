{
  "nbformat": 4,
  "nbformat_minor": 0,
  "metadata": {
    "colab": {
      "provenance": []
    },
    "kernelspec": {
      "name": "python3",
      "display_name": "Python 3"
    },
    "language_info": {
      "name": "python"
    }
  },
  "cells": [
    {
      "cell_type": "markdown",
      "source": [
        "# Hoofstuk 9 Oefeninge"
      ],
      "metadata": {
        "id": "srUJfmJIpy8Q"
      }
    },
    {
      "cell_type": "markdown",
      "source": [
        "## Oefening 9.1: Data Skoonmaak\n",
        "\n",
        "Jy het 'n datastel met ontbrekende waardes en uitskieters."
      ],
      "metadata": {
        "id": "c224O1Y3p6gQ"
      }
    },
    {
      "cell_type": "code",
      "execution_count": null,
      "metadata": {
        "id": "grRrryeZpwot"
      },
      "outputs": [],
      "source": [
        "import pandas as pd\n",
        "import numpy as np\n",
        "\n",
        "# Skep 'n voorbeeld DataFrame\n",
        "data = {'Naam': ['Alice', 'Bob', 'Charlie', None, 'Eve'],\n",
        "        'Ouderdom': [25, np.nan, 35, 40, 50],\n",
        "        'Salaris': [50000, 70000, 120000, 110000, 90000],\n",
        "        'Ervaring': [2, 10, np.nan, 7, 15]}\n",
        "df = pd.DataFrame(data)\n",
        "\n",
        "# Druk die DataFrame om die ontbrekende waardes te sien\n",
        "print(\"Oorspronklike DataFrame met ontbrekende waardes:\")\n",
        "print(df)"
      ]
    },
    {
      "cell_type": "markdown",
      "source": [
        "1.   Verwyder rye waar die Naam ontbreek.\n",
        "2.   Vul ontbrekende waardes in die Ouderdom- en Ervaring-kolomme met hul onderskeie gemiddeldes."
      ],
      "metadata": {
        "id": "NXwFEHt9rxry"
      }
    },
    {
      "cell_type": "markdown",
      "source": [
        "## **oplossing**"
      ],
      "metadata": {
        "id": "CIf67K89qIFI"
      }
    },
    {
      "cell_type": "code",
      "source": [
        "# Verwyder rye waar 'Naam' ontbreek\n",
        "df.dropna(subset=['Naam'], inplace=True)\n",
        "\n",
        "# Vul ontbrekende waardes in 'Ouderdom' met die gemiddelde (nuwe manier)\n",
        "df.fillna({'Ouderdom': df['Ouderdom'].mean()}, inplace=True)\n",
        "\n",
        "# Vul ontbrekende waardes in 'Ervaring' met die gemiddelde (nuwe manier)\n",
        "df.fillna({'Ervaring': df['Ervaring'].mean()}, inplace=True)\n",
        "\n",
        "# Druk die DataFrame na die hantering van ontbrekende waardes\n",
        "print(\"\\nDataFrame na die hantering van ontbrekende waardes (nuwe manier):\")\n",
        "print(df)"
      ],
      "metadata": {
        "id": "B-Nyjx5KqHow"
      },
      "execution_count": null,
      "outputs": []
    },
    {
      "cell_type": "markdown",
      "source": [
        "## Oefening 9.2: Kenmerk-ingenieurswese\n",
        "\n",
        "Skep 'n nuwe kenmerk genaamd 'Ouderdomsgroep' in die bostaande DataFrame, gebaseer op die Ouderdom-kolom. Gebruik die volgende groepe: \"Jong\" vir Ouderdom <= 30, \"Middeljarige\" vir Ouderdom tussen 31 en 45, en \"Senior\" vir Ouderdom > 45."
      ],
      "metadata": {
        "id": "DF6FRonEq5Ts"
      }
    },
    {
      "cell_type": "code",
      "source": [
        "import pandas as pd\n",
        "import numpy as np\n",
        "\n",
        "# Skep 'n voorbeeld DataFrame (as jy nie reeds een het nie)\n",
        "data = {'Naam': ['Alice', 'Bob', 'Charlie', 'David', 'Eve', 'Frank', 'Grace'],\n",
        "        'Ouderdom': [25, 32, 48, 15, 60, 40, 30]}\n",
        "df = pd.DataFrame(data)"
      ],
      "metadata": {
        "id": "fS8ic2vprDwj"
      },
      "execution_count": null,
      "outputs": []
    },
    {
      "cell_type": "markdown",
      "source": [
        "## **oplossing**"
      ],
      "metadata": {
        "id": "Saib_2_ErN2I"
      }
    },
    {
      "cell_type": "code",
      "source": [
        "# Skep 'n nuwe kenmerk 'Ouderdomsgroep' gebaseer op die 'Ouderdom'-kolom\n",
        "# Gebruik die volgende groepe:\n",
        "# \"Jong\" vir Ouderdom <= 30\n",
        "# \"Middeljarige\" vir Ouderdom tussen 31 en 45\n",
        "# \"Senior\" vir Ouderdom > 45\n",
        "df['Ouderdomsgroep'] = pd.cut(df['Ouderdom'],\n",
        "                            bins=[0, 30, 45, np.inf],\n",
        "                            labels=['Jong', 'Middeljarige', 'Senior'],\n",
        "                            right=True) # right=True is die verstek, wat beteken [0, 30], (30, 45], (45, inf]\n",
        "\n",
        "# Druk die DataFrame met die nuwe 'Ouderdomsgroep'-kolom\n",
        "print(df)"
      ],
      "metadata": {
        "id": "ov4n4f47rOwq"
      },
      "execution_count": null,
      "outputs": []
    },
    {
      "cell_type": "markdown",
      "source": [
        "## Oefening 9.3: Data Transformasie\n",
        "\n",
        "Pas Min-Maks-skalering toe op die Salaris-kolom van die DataFrame.\n"
      ],
      "metadata": {
        "id": "hXOyB8YhsFlR"
      }
    },
    {
      "cell_type": "code",
      "source": [
        "import pandas as pd\n",
        "import numpy as np\n",
        "\n",
        "# Skep 'n voorbeeld DataFrame\n",
        "data = {'Naam': ['Alice', 'Bob', 'Charlie', None, 'Eve'],\n",
        "        'Ouderdom': [25, np.nan, 35, 40, 50],\n",
        "        'Salaris': [50000, 70000, 120000, 110000, 90000],\n",
        "        'Ervaring': [2, 10, np.nan, 7, 15]}\n",
        "df = pd.DataFrame(data)"
      ],
      "metadata": {
        "id": "fE0RGk-vsToo"
      },
      "execution_count": null,
      "outputs": []
    },
    {
      "cell_type": "markdown",
      "source": [
        "## **oplossing**"
      ],
      "metadata": {
        "id": "QAGgR2c2sWBQ"
      }
    },
    {
      "cell_type": "code",
      "source": [
        "from sklearn.preprocessing import MinMaxScaler\n",
        "\n",
        "# Inisialiseer die MinMaxScaler\n",
        "skaler = MinMaxScaler()\n",
        "\n",
        "# Pas Min-Maks-skalering toe op die 'Salaris'-kolom\n",
        "df['Salaris'] = skaler.fit_transform(df[['Salaris']])\n",
        "\n",
        "# Druk die DataFrame met die geskaalde 'Salaris'-kolom\n",
        "print(df)"
      ],
      "metadata": {
        "id": "k17fNgecsVuV"
      },
      "execution_count": null,
      "outputs": []
    }
  ]
}