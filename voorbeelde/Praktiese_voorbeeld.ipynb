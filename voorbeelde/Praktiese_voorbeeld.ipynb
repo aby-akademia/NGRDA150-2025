{
  "nbformat": 4,
  "nbformat_minor": 0,
  "metadata": {
    "colab": {
      "provenance": []
    },
    "kernelspec": {
      "name": "python3",
      "display_name": "Python 3"
    },
    "language_info": {
      "name": "python"
    }
  },
  "cells": [
    {
      "cell_type": "markdown",
      "source": [
        "# Praktiese voorbeeld met regte data"
      ],
      "metadata": {
        "id": "wxtStQEKrIS4"
      }
    },
    {
      "cell_type": "markdown",
      "source": [
        "## In hierdie voorbeeld gaan ons werklike data aflaai (*Data versameling*) en dit skoonmaak (*Ontdek en verstaan data* & *Data voorbereiding*) vir ’n toekomstige toepassing.\n",
        "\n",
        "## Die data is afkomstig van Statistiek Suid-Afrika en verteenwoordig die Verbruikersprysindeks (VPI) se Gemiddelde Pryse vir alle stedelike gebiede, vanaf Januarie 2017 tot Januarie 2025. Die oorspronklike dataskakel is beskikbaar by: [https://www.statssa.gov.za/?page_id=1847](https://www.statssa.gov.za/?page_id=1847) — kyk spesifiek vir die lêer **CPI_Average Prices_All urban(202501).zip**.\n",
        "\n",
        "#### *(Die lêer is reeds afgelaai en uitgepak na die klas se GitHub-bladsy vir gebruiksgemak.)*\n",
        "\n",
        "## Die datastel bevat verskeie datakwaliteitskwessies (jy kan self die oorspronklike aflaai en ondersoek), en ons sal toepaslike datatransformasies uitvoer. Ons skep ook ’n nuwe kenmerk, naamlik *inflasie*, wat gebruik gaan word om ontbrekende waardes in te vul.\n",
        "\n"
      ],
      "metadata": {
        "id": "vI_AWjuwNRy6"
      }
    },
    {
      "cell_type": "code",
      "execution_count": null,
      "metadata": {
        "id": "5_B9XVmAq3ui"
      },
      "outputs": [],
      "source": [
        "# Laai CSV data lêer af vanaf Github bladsy\n",
        "!wget https://raw.githubusercontent.com/aby-akademia/NGRDA150-2025/refs/heads/main/datastelle/CPI_Average_Prices_All_urban_202503.csv\n"
      ]
    },
    {
      "cell_type": "code",
      "source": [
        "# Laai Pandas biblioteek\n",
        "import pandas as pd"
      ],
      "metadata": {
        "id": "xC5P3N17rSEB"
      },
      "execution_count": null,
      "outputs": []
    },
    {
      "cell_type": "code",
      "source": [
        "# Lees die data vanaf die CSV lêer in 'n DataFrame in, en behandel '..' as ontbrekende waardes\n",
        "df = pd.read_csv(\"CPI_Average_Prices_All_urban_202503.csv\", na_values=[\"..\"])\n",
        "\n",
        "# druk die eerste 5 lyne uit na die skerm\n",
        "df.head()"
      ],
      "metadata": {
        "id": "zFd46nctrWjS"
      },
      "execution_count": null,
      "outputs": []
    },
    {
      "cell_type": "code",
      "source": [
        "# Hernoem met Afrikaanse etikette\n",
        "afrikaans_etikette = {\n",
        "    'H04': 'Produk',\n",
        "    'H07': 'Kode',\n",
        "    'H08': 'Meeteenheid'\n",
        "}\n",
        "\n",
        "df.rename(columns=afrikaans_etikette, inplace=True)\n",
        "\n",
        "# druk die eerste 5 lyne uit na die skerm\n",
        "df.head()"
      ],
      "metadata": {
        "id": "imaH03ZcyDGU"
      },
      "execution_count": null,
      "outputs": []
    },
    {
      "cell_type": "code",
      "source": [
        "# Standaardiseer die waardes in H06 kolom. Party is \"monthly\" en ander is \"Monthly\"\n",
        "# Gebruik 'str.title()' om net die eerste letter van elke woord in 'n string kapitaliseer.\n",
        "\n",
        "print(f\"Voor standardiseering: {df['H06'].unique()}\")\n",
        "\n",
        "df['H06'] = df['H06'].str.title()\n",
        "\n",
        "print(f\"Na standaardiseering: {df['H06'].unique()}\")"
      ],
      "metadata": {
        "id": "ScwE31YNzH0t"
      },
      "execution_count": null,
      "outputs": []
    },
    {
      "cell_type": "code",
      "source": [
        "# Identifiseer kolomme wat waarskynlik numeriese pryse bevat (begin met 'M20' of bevat 'Prys')\n",
        "prys_kolomme = [kolom for kolom in df.columns if kolom.startswith('M20') or 'Prys' in kolom]\n",
        "\n",
        "# Vervang kommas met punte in desimale getalle en omskep na numeries\n",
        "# Party waardes in die datastel is bv. 37.89 en ander 37,89\n",
        "for kolom in prys_kolomme:\n",
        "    df[kolom] = df[kolom].astype(str).str.replace(',', '.', regex=False)\n",
        "    df[kolom] = pd.to_numeric(df[kolom], errors='coerce')  # Omskep na float, fout = NaN\n",
        "\n",
        "# wys eerste paar rye vir kontrole\n",
        "print(df.head())"
      ],
      "metadata": {
        "id": "Q8l2-Yx803Wf"
      },
      "execution_count": null,
      "outputs": []
    },
    {
      "cell_type": "code",
      "source": [
        "# Standardiseer die datumkolomme (2024-12 in plaas van M202412)\n",
        "# Hernoem kolomme soos 'M202412' na '2024-12'\n",
        "\n",
        "datum_kolomme = []\n",
        "for kol in df.columns:\n",
        "    if kol.startswith('M20') and len(kol) == 7:\n",
        "        try:\n",
        "            jaar = int(kol[1:5])\n",
        "            maand = int(kol[5:7])\n",
        "            nuwe_naam = pd.to_datetime(f'{jaar}-{maand}', format='%Y-%m').strftime('%Y-%m')\n",
        "            df.rename(columns={kol: nuwe_naam}, inplace=True)\n",
        "            datum_kolomme.append(nuwe_naam)\n",
        "        except ValueError:\n",
        "            print(f\"Kolom {kol} word oorgeslaan.\")\n",
        "\n",
        "datum_kolomme.sort()\n",
        "\n",
        "# Druk die eerste paar rye van die DataFrame uit om die veranderinge te sien\n",
        "print(df.head())"
      ],
      "metadata": {
        "id": "_5xkHM1Q55at"
      },
      "execution_count": null,
      "outputs": []
    },
    {
      "cell_type": "code",
      "source": [
        "# Kontroleer op ontbrekende waardes\n",
        "# Hier tel ons net eers hoeveel rye daar is met ontbrekende waardes in die maand kollome,\n",
        "# m.a.w. daar is nie pryse vir die produkte vir daardie maande nie.\n",
        "voor_nulls = df[datum_kolomme].isnull().any(axis=1)\n",
        "print(\"Aantal rye met ontbrekende pryse VOOR aanvulling:\", voor_nulls.sum())\n"
      ],
      "metadata": {
        "id": "JI7VSPAdyyNv"
      },
      "execution_count": null,
      "outputs": []
    },
    {
      "cell_type": "code",
      "source": [
        "# Die metodologie wat ons gaan volg, is soos volg:\n",
        "# 1. Ons verwyder alle ontbrekende pryse.\n",
        "# 2. Ons kontroleer dat ’n ry meer as een prys het, indien dit nie die geval is nie, kan ons geen berekeninge daarop doen nie, en ons gaan eenvoudig aan na die volgende ry.\n",
        "# 3. Ons identifiseer die eerste beskikbare prys saam met die betrokke jaar en maand, en doen dieselfde vir die laaste beskikbare prys.\n",
        "#    Met hierdie inligting bereken ons die prysverandering oor ’n tydsverloop, wat ons dan gebruik om die inflasie vir daardie produk te skat.\n",
        "# 4. Ons vul die ontbrekende waardes aan deur gebruik te maak van die berekende inflasie vir die spesifieke produk.\n",
        "\n",
        "# Skeiding van metadata en tydreeksdata\n",
        "metadata = df.drop(columns=datum_kolomme)\n",
        "prysdata = df[datum_kolomme]\n",
        "aangevulde_prysdata = prysdata.copy()\n",
        "\n",
        "# Aanvulling per ry gebaseer op inflasie-aanname\n",
        "for indeks, ry in prysdata.iterrows():\n",
        "    beskikbare_pryse = ry.dropna()\n",
        "\n",
        "    if len(beskikbare_pryse) < 2:\n",
        "        continue  # Onvoldoende data om inflasie te skat\n",
        "\n",
        "    eerste_datum = beskikbare_pryse.index[0]\n",
        "    laaste_datum = beskikbare_pryse.index[-1]\n",
        "    eerste_prys = beskikbare_pryse.iloc[0]\n",
        "    laaste_prys = beskikbare_pryse.iloc[-1]\n",
        "\n",
        "    aantal_maande = pd.to_datetime(laaste_datum).to_period(\"M\").ordinal - \\\n",
        "                    pd.to_datetime(eerste_datum).to_period(\"M\").ordinal\n",
        "\n",
        "    if aantal_maande == 0:\n",
        "        continue\n",
        "\n",
        "    inflasiekoers = (laaste_prys / eerste_prys) ** (1 / aantal_maande)\n",
        "\n",
        "    # Vul slegs die ontbrekende waardes in\n",
        "    huidige_prys = eerste_prys\n",
        "    huidige_datum = pd.to_datetime(eerste_datum).to_period(\"M\").ordinal\n",
        "\n",
        "    # Vul die hele reeks in\n",
        "    huidige_prys = eerste_prys\n",
        "    huidige_datum = pd.to_datetime(eerste_datum).to_period(\"M\").ordinal\n",
        "\n",
        "    for kol in datum_kolomme:\n",
        "        # Maak seker dat die huidige waarde in aangevulde_prysdata ontbreke is,\n",
        "        # slegs dan vul ons die berekende waarde in.\n",
        "        if pd.isna(aangevulde_prysdata.at[indeks, kol]):\n",
        "            kol_ordinal = pd.to_datetime(kol).to_period(\"M\").ordinal\n",
        "            maand_verskil = kol_ordinal - huidige_datum\n",
        "            nuwe_prys = eerste_prys * (inflasiekoers ** maand_verskil)\n",
        "            aangevulde_prysdata.at[indeks, kol] = nuwe_prys\n",
        "\n",
        "# Herbou finale stel\n",
        "volledige_data = pd.concat([metadata, aangevulde_prysdata], axis=1)\n"
      ],
      "metadata": {
        "id": "D0PezZwqEFHk"
      },
      "execution_count": null,
      "outputs": []
    },
    {
      "cell_type": "code",
      "source": [
        "# Finale kontrole van ontbrekende waardes\n",
        "na_nulls = volledige_data[datum_kolomme].isnull().any(axis=1)\n",
        "print(\"Aantal rye met ontbrekende pryse NA aanvulling:\", na_nulls.sum())\n"
      ],
      "metadata": {
        "id": "vw15tjwB7WmS"
      },
      "execution_count": null,
      "outputs": []
    },
    {
      "cell_type": "markdown",
      "source": [
        "## Nou plot ons die pryse van die \"Maize meal\" produk (\"Kode\" is 10931) voor die imputasie."
      ],
      "metadata": {
        "id": "8KNl3-UyLJRJ"
      }
    },
    {
      "cell_type": "code",
      "source": [
        "# Laai die Matplotlib biblioteek om te gebruik om te plot\n",
        "import matplotlib.pyplot as plt\n",
        "\n",
        "# Maak seker dat die \"Kode\" kollom hateer word as 'n heelgetal en nie 'n string nie\n",
        "df['Kode'] = pd.to_numeric(df['Kode'], errors='coerce')\n",
        "\n",
        "# Kry die \"Maize meal\" produk ry (in die oorspronklike datastel, df), met Kode 10931\n",
        "ry_10931 = df[df['Kode'] == 10931]\n",
        "\n",
        "# Kry die datums\n",
        "pryse = ry_10931[datum_kolomme].iloc[0]\n",
        "\n",
        "# Skakel '..' en ander ongeldige waardes om na NaN, en dan na 'float'\n",
        "pryse_skoon = pd.to_numeric(pryse, errors='coerce')\n",
        "\n",
        "plt.figure(figsize=(12, 6))\n",
        "plt.plot(datum_kolomme, pryse_skoon.values, marker='o', linestyle='-')\n",
        "plt.title('Pryse Oor Tyd vir Produk Kode 10931 (Oorspronklike)')\n",
        "plt.xlabel('Maand')\n",
        "plt.ylabel('Prys (Rand)')\n",
        "plt.grid(True)\n",
        "plt.xticks(rotation=45)\n",
        "plt.tight_layout()\n",
        "plt.show()"
      ],
      "metadata": {
        "id": "fNgDxHlWFzL6"
      },
      "execution_count": null,
      "outputs": []
    },
    {
      "cell_type": "markdown",
      "source": [
        "## Ons kan dit dan vergelyk met die pryse van die \"Maize meal\" produk (\"Kode\" is 10931) **NA** die imputasie."
      ],
      "metadata": {
        "id": "GCaODMRcLijA"
      }
    },
    {
      "cell_type": "code",
      "source": [
        "# Ons het klaar Matplotlib hierbo gelaai\n",
        "# import matplotlib.pyplot as plt\n",
        "\n",
        "# Maak seker dat die \"Kode\" kollom hateer word as 'n heelgetal en nie 'n string nie\n",
        "volledige_data['Kode'] = pd.to_numeric(volledige_data['Kode'], errors='coerce')\n",
        "\n",
        "# Kry die \"Maize meal\" produk ry (in die verwerkte datastel, volledige_data), met Kode 10931\n",
        "ry_10931 = volledige_data[volledige_data['Kode'] == 10931]\n",
        "\n",
        "# Kry die datums\n",
        "pryse = ry_10931[datum_kolomme].iloc[0]\n",
        "\n",
        "# Skakel '..' en ander ongeldige waardes om na NaN, en dan na 'float'\n",
        "pryse_skoon = pd.to_numeric(pryse, errors='coerce')\n",
        "\n",
        "plt.figure(figsize=(12, 6))\n",
        "plt.plot(datum_kolomme, pryse_skoon.values, marker='o', linestyle='-')\n",
        "plt.title('Pryse Oor Tyd vir Produk Kode 10931 (Verwerkte)')\n",
        "plt.xlabel('Maand')\n",
        "plt.ylabel('Prys (Rand)')\n",
        "plt.grid(True)\n",
        "plt.xticks(rotation=45)\n",
        "plt.tight_layout()\n",
        "plt.show()"
      ],
      "metadata": {
        "id": "AKypLbo5GixU"
      },
      "execution_count": null,
      "outputs": []
    }
  ]
}