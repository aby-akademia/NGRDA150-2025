{
  "nbformat": 4,
  "nbformat_minor": 0,
  "metadata": {
    "colab": {
      "provenance": []
    },
    "kernelspec": {
      "name": "python3",
      "display_name": "Python 3"
    },
    "language_info": {
      "name": "python"
    }
  },
  "cells": [
   {
      "cell_type": "markdown",
      "source": [
      "# Leereenheid 3.3 Skep en interpreteer datavisualisasies."
      ],
      "metadata": {
        "id": "s-e_cn14mbEe"
      }
    },
    {
      "cell_type": "code",
      "source": [
        "# Trek data vanaf die web\n",
        "\n",
        "!wget https://raw.githubusercontent.com/aby-akademia/NGRDA150-2025/refs/heads/main/datastelle/verkope.csv"
      ],
      "metadata": {
        "id": "Vf623yItqIO_"
      },
      "execution_count": null,
      "outputs": []
    },
    {
      "cell_type": "code",
      "execution_count": null,
      "metadata": {
        "id": "KpFV7cgrqB-z"
      },
      "outputs": [],
      "source": [
        "# Laai die Pandas, Matplotlib en Seaborn biblioteke\n",
        "\n",
        "import pandas as pd\n",
        "import matplotlib.pyplot as plt\n",
        "import seaborn as sns"
      ]
    },
    {
      "cell_type": "code",
      "source": [
        "# Laai die data\n",
        "\n",
        "data = pd.read_csv(\"verkope.csv\")"
      ],
      "metadata": {
        "id": "9Mg0mhk5qRDA"
      },
      "execution_count": null,
      "outputs": []
    },
    {
      "cell_type": "code",
      "source": [
        "# 1. Staafgrafiek: Hoeveelheid per produk\n",
        "\n",
        "plt.figure(figsize=(8, 5))\n",
        "sns.barplot(x=\"Produk\", y=\"Hoeveelheid\", data=data, estimator=sum, errorbar=None)\n",
        "plt.title(\"Totale Hoeveelheid Verkoop per Produk\")\n",
        "plt.ylabel(\"Hoeveelheid\")\n",
        "plt.xlabel(\"Produk\")\n",
        "plt.show()"
      ],
      "metadata": {
        "id": "LxzKCZTnqUQX"
      },
      "execution_count": null,
      "outputs": []
    },
    {
      "cell_type": "code",
      "source": [
        "# 2. Lyngrafiek: Hoeveelheid oor tyd\n",
        "\n",
        "plt.figure(figsize=(10, 5))\n",
        "plt.plot(data[\"Datum\"], data[\"Hoeveelheid\"], marker=\"o\")\n",
        "plt.title(\"Verkoophoeveelheid oor Tyd\")\n",
        "plt.ylabel(\"Hoeveelheid\")\n",
        "plt.xlabel(\"Datum\")\n",
        "plt.xticks(rotation=45)\n",
        "plt.show()"
      ],
      "metadata": {
        "id": "K9MSX2GzqX-u"
      },
      "execution_count": null,
      "outputs": []
    }
  ]
}