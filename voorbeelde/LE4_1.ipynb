{
  "nbformat": 4,
  "nbformat_minor": 0,
  "metadata": {
    "colab": {
      "provenance": []
    },
    "kernelspec": {
      "name": "python3",
      "display_name": "Python 3"
    },
    "language_info": {
      "name": "python"
    }
  },
  "cells": [
    {
      "cell_type": "markdown",
      "source": [
        "# Leereenheid 4.1\n",
        "## Hanteer datakwaliteitskwessies en pas toepaslike tegnieke toe om data skoon te maak.\n",
        "\n",
        "### Voorbeelde van hoofstuk 9.1 in handboek"
      ],
      "metadata": {
        "id": "2lQ0uXSAjf7J"
      }
    },
    {
      "cell_type": "code",
      "execution_count": null,
      "metadata": {
        "id": "M6RHrlXMdgok"
      },
      "outputs": [],
      "source": [
        "# Laai die Pandas en Numpy biblioteke\n",
        "\n",
        "import pandas as pd\n",
        "import numpy as np"
      ]
    },
    {
      "cell_type": "code",
      "source": [
        "# Skep die DataFrame\n",
        "df = pd.DataFrame({\n",
        "    'Name': ['Alice', 'Bob', 'Charlie', 'David'],\n",
        "    'Age': [25, np.nan, 35, 40],\n",
        "    'Occupation': ['Engineer', 'Doctor', 'NaN', 'Artist']\n",
        "})"
      ],
      "metadata": {
        "id": "V9y0R397d5Bn"
      },
      "execution_count": null,
      "outputs": []
    },
    {
      "cell_type": "code",
      "source": [
        "# kyk vir ontbreke waardes\n",
        "print(df.isnull())"
      ],
      "metadata": {
        "id": "quvENm28eDzG"
      },
      "execution_count": null,
      "outputs": []
    },
    {
      "cell_type": "code",
      "source": [
        "# verwyder rye met ontbreke waardes\n",
        "\n",
        "df_dropped = df.dropna()\n",
        "print(df_dropped)"
      ],
      "metadata": {
        "id": "02qrb9tfeJz-"
      },
      "execution_count": null,
      "outputs": []
    },
    {
      "cell_type": "code",
      "source": [
        "# 'n Ander opsie is om ontbrekende waardes in te vul\n",
        "df = pd.DataFrame({\n",
        "    'Name': ['Alice', 'Bob', 'Charlie', 'David'],\n",
        "    'Age': [25, np.nan, 35, 40],\n",
        "    'Occupation': ['Engineer', 'Doctor', 'NaN', 'Artist']\n",
        "})\n",
        "\n",
        "df_filled = df.fillna({\n",
        "    'Age': df['Age'].mean(),\n",
        "    'Occupation': 'Unknown'\n",
        "})\n",
        "\n",
        "print(df_filled)"
      ],
      "metadata": {
        "id": "G_TNq9vYeTny"
      },
      "execution_count": null,
      "outputs": []
    },
    {
      "cell_type": "code",
      "source": [
        "# soek rye wat duplikate is\n",
        "duplicates = df.duplicated()\n",
        "print(f\"Number of duplicate rows = {duplicates.sum()}\")\n",
        "\n",
        "# verwyder duplikate rye\n",
        "df = df.drop_duplicates()"
      ],
      "metadata": {
        "id": "bAccYKbienSD"
      },
      "execution_count": null,
      "outputs": []
    },
    {
      "cell_type": "code",
      "source": [
        "# Voorbeeld DataFrame met persentasie in verskillende formate\n",
        "df = pd.DataFrame({\n",
        "    'Name': ['Alice', 'Bob', 'Charlie'],\n",
        "    'Percentage': ['90%', '0.8', '85']\n",
        "})"
      ],
      "metadata": {
        "id": "37KH5ipoe6aF"
      },
      "execution_count": null,
      "outputs": []
    },
    {
      "cell_type": "code",
      "source": [
        "# Standardiseer persentasie reële tiepe\n",
        "df['Percentage'] = df['Percentage'].replace('%', \"\", regex=True).astype('float') / 100\n",
        "print(df)#"
      ],
      "metadata": {
        "id": "jm_uxg4yfDgY"
      },
      "execution_count": null,
      "outputs": []
    },
    {
      "cell_type": "code",
      "source": [
        "# Laai die stats module van die SciPy biblioteek\n",
        "from scipy import stats"
      ],
      "metadata": {
        "id": "o_lNSDdHfhvm"
      },
      "execution_count": null,
      "outputs": []
    },
    {
      "cell_type": "code",
      "source": [
        "# Skep 'n eenvoudige DataFrame\n",
        "data = {'Naam': ['Anna', 'Pieter', 'Klara', 'Jan', 'Sarel', 'Mieke', 'Frans'],\n",
        "        'Ouderdom': [25, 30, 28, 22, 85, 31, 26]}\n",
        "df = pd.DataFrame(data)\n",
        "\n",
        "# Bereken Z-tellings\n",
        "z_tellings = np.abs(stats.zscore(df['Ouderdom'].dropna()))\n",
        "print(z_tellings)\n",
        "uitskieters = (z_tellings > 2)\n",
        "\n",
        "# Vertoon uitskieters\n",
        "print(df['Ouderdom'][uitskieters])"
      ],
      "metadata": {
        "id": "VHBqDue-ft4p"
      },
      "execution_count": null,
      "outputs": []
    },
    {
      "cell_type": "code",
      "source": [
        "import pandas as pd\n",
        "import numpy as np\n",
        "from imblearn.over_sampling import RandomOverSampler\n",
        "\n",
        "# Skep 'n ongebalanseerde datastel (voorbeeld met moontlike float-waardes)\n",
        "X = pd.DataFrame({'Kenmerk_1': np.random.rand(100),\n",
        "                  'Kenmerk_2': np.random.rand(100)})\n",
        "y = np.concatenate([np.zeros(90), np.ones(10)]).astype(int)\n",
        "\n",
        "\n",
        "print(\"Vorm van X:\", X.shape)\n",
        "print(\"Vorm van y:\", y.shape)\n",
        "print(\"Verhouding van klasse in y:\", np.bincount(y))\n",
        "\n",
        "ros = RandomOverSampler(random_state=42)\n",
        "X_resampled, y_resampled = ros.fit_resample(X, y)\n",
        "\n",
        "print(\"\\nVorm van X_resampled:\", X_resampled.shape)\n",
        "print(\"Vorm van y_resampled:\", y_resampled.shape)\n",
        "print(\"Verhouding van klasse in y_resampled:\", np.bincount(y_resampled))"
      ],
      "metadata": {
        "id": "Rd3cXZVGhCoH"
      },
      "execution_count": null,
      "outputs": []
    },
    {
      "cell_type": "code",
      "source": [
        "# Skep 'n eenvoudige DataFrame\n",
        "data = {'Ou_Naam_Een': [1, 2, 3],\n",
        "        'Ou_Naam_Twee': ['A', 'B', 'C']}\n",
        "df = pd.DataFrame(data)\n",
        "\n",
        "# Wys die oorspronklike DataFrame\n",
        "print(\"Oorspronklike DataFrame:\")\n",
        "print(df)\n",
        "\n",
        "# Hernoem kolomme\n",
        "df.rename(columns={'Ou_Naam_Een': 'Nuwe_Naam_Een',\n",
        "                   'Ou_Naam_Twee': 'Nuwe_Naam_Twee'}, inplace=True)\n",
        "\n",
        "# Wys die DataFrame met die hernoemde kolomme\n",
        "print(\"\\nDataFrame met hernoemde kolomme:\")\n",
        "print(df)"
      ],
      "metadata": {
        "id": "kzvY3jB_iJFy"
      },
      "execution_count": null,
      "outputs": []
    },
    {
      "cell_type": "code",
      "source": [
        "def simple_label_encode(labels):\n",
        "    \"\"\"\n",
        "    Enkodeer 'n lys van stringetikette na 'n lys van numeriese etikette.\n",
        "\n",
        "    Parameters:\n",
        "    labels (list): 'n Lys van stringetikette.\n",
        "\n",
        "    Returns:\n",
        "    tuple: 'n Tupel wat die enkodeerde etikette (lys) en 'n mapping (woordeboek) bevat.\n",
        "    \"\"\"\n",
        "    unique_labels = sorted(list(set(labels)))\n",
        "    label_to_index = {label: index for index, label in enumerate(unique_labels)}\n",
        "    encoded_labels = [label_to_index[label] for label in labels]\n",
        "    return encoded_labels, label_to_index\n",
        "\n",
        "\n",
        "# Skep 'n eenvoudige DataFrame met 'n kategoriese kolom\n",
        "data = {'kleur': ['rooi', 'blou', 'groen', 'rooi', 'blou']}\n",
        "df = pd.DataFrame(data)\n",
        "\n",
        "# Wys die oorspronklike DataFrame\n",
        "print(\"Oorspronklike DataFrame:\")\n",
        "print(df)\n",
        "\n",
        "# Pas aan en transformeer die 'kleur'-kolom\n",
        "encoding = simple_label_encode(df['kleur'])\n",
        "df['kleur_gekodeer'] = encoding[0]\n",
        "\n",
        "# Wys die DataFrame met die enkodering\n",
        "print(\"\\nDataFrame met gekodeerde 'kleur'-kolom:\")\n",
        "print(df)\n",
        "\n",
        "# Wys die afbeelding van oorspronklike klasse na enkodering\n",
        "print(\"\\nAfbeelding van oorspronklike klasse na enkodering:\")\n",
        "print(dict(zip(encoding[1], encoding[0])))"
      ],
      "metadata": {
        "id": "VOZVCHw_iQsq"
      },
      "execution_count": null,
      "outputs": []
    },
    {
      "cell_type": "markdown",
      "source": [],
      "metadata": {
        "id": "7EeZZ5EPd_Vh"
      }
    }
  ]
}