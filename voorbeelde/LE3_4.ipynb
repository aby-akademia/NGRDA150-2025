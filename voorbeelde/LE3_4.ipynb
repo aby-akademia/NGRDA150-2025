{
  "nbformat": 4,
  "nbformat_minor": 0,
  "metadata": {
    "colab": {
      "provenance": []
    },
    "kernelspec": {
      "name": "python3",
      "display_name": "Python 3"
    },
    "language_info": {
      "name": "python"
    }
  },
  "cells": [
    {
      "cell_type": "markdown",
      "source": [
      "# Leereenheid 3.4 Evalueer die kwaliteit van data."
      ],
      "metadata": {
        "id": "s-e_cn14mbEe"
      }
    },
    {
      "cell_type": "code",
      "execution_count": null,
      "metadata": {
        "id": "2K2kRS2OqqM1"
      },
      "outputs": [],
      "source": [
        "# Trek data vanaf die web\n",
        "\n",
        "!wget https://raw.githubusercontent.com/aby-akademia/NGRDA150-2025/refs/heads/main/datastelle/verkope_met_foute.csv"
      ]
    },
    {
      "cell_type": "code",
      "source": [
        "# Laai die Pandas en Matplotlib biblioteke\n",
        "\n",
        "import pandas as pd\n",
        "mport matplotlib.pyplot as plt"
      ],
      "metadata": {
        "id": "pR8ntKd2rbXa"
      },
      "execution_count": null,
      "outputs": []
    },
    {
      "cell_type": "code",
      "source": [
        "# Laai die data\n",
        "\n",
        "data = pd.read_csv(\"verkope_met_foute.csv\")"
      ],
      "metadata": {
        "id": "lSfqr7gNrcpS"
      },
      "execution_count": null,
      "outputs": []
    },
    {
      "cell_type": "code",
      "source": [
        "# 1. Basiese inspeksie\n",
        "\n",
        "print(\"Basiese oorsig:\")\n",
        "print(data.info())\n",
        "print(\"\\nEerste paar rye:\")\n",
        "print(data.head())"
      ],
      "metadata": {
        "id": "nPXXQy4hreRl"
      },
      "execution_count": null,
      "outputs": []
    },
    {
      "cell_type": "code",
      "source": [
        "# 2. Kontroleer ontbrekende waardes\n",
        "\n",
        "print(\"\\nOntbrekende waardes:\")\n",
        "print(data.isnull().sum())"
      ],
      "metadata": {
        "id": "efl5swGSriYU"
      },
      "execution_count": null,
      "outputs": []
    },
    {
      "cell_type": "code",
      "source": [
        "# 3. Kontroleer duplikate\n",
        "\n",
        "duplikate = data.duplicated().sum()\n",
        "print(f\"\\nAantal duplikate: {duplikate}\")"
      ],
      "metadata": {
        "id": "4DcXib5_rki8"
      },
      "execution_count": null,
      "outputs": []
    },
    {
      "cell_type": "code",
      "source": [
        "# 4. Kontroleer datatipes en ongeldige waardes\n",
        "\n",
        "print(\"\\nData tipes:\")\n",
        "print(data.dtypes)\n",
        "\n",
        "# Kyk vir nie-numeriese \"Prys\" waardes\n",
        "\n",
        "ongeldige_prys = data[~data[\"Prys\"].apply(lambda x: isinstance(x, (int, float)))]\n",
        "print(\"\\nRye met ongeldige prys:\")\n",
        "print(ongeldige_prys)"
      ],
      "metadata": {
        "id": "WdcwJiPnrnMU"
      },
      "execution_count": null,
      "outputs": []
    },
    {
      "cell_type": "code",
      "source": [
        "# 5. Kontroleer logiese foute (bv. negatiewe hoeveelhede)\n",
        "\n",
        "negatiewe_hoeveelheid = data[data[\"Hoeveelheid\"] < 0]\n",
        "print(\"\\nRye met negatiewe hoeveelheid:\")\n",
        "print(negatiewe_hoeveelheid)"
      ],
      "metadata": {
        "id": "1B8RcFd0rq5k"
      },
      "execution_count": null,
      "outputs": []
    },
    {
      "cell_type": "code",
      "source": [
        "# 6. Boksplot vir visuele identifikasie\n",
        "\n",
        "plt.figure(figsize=(8, 5))\n",
        "plt.boxplot(data[\"Hoeveelheid\"].dropna(), vert=False)\n",
        "plt.title(\"Boksplot van hoeveelheid\")\n",
        "plt.xlabel(\"Hoeveelheid\")\n",
        "plt.show()"
      ],
      "metadata": {
        "id": "PWdA560BrvJJ"
      },
      "execution_count": null,
      "outputs": []
    }
  ]
}