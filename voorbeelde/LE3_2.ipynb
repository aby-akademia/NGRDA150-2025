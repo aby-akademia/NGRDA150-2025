{
  "nbformat": 4,
  "nbformat_minor": 0,
  "metadata": {
    "colab": {
      "provenance": []
    },
    "kernelspec": {
      "name": "python3",
      "display_name": "Python 3"
    },
    "language_info": {
      "name": "python"
    }
  },
  "cells": [
    {
      "cell_type": "markdown",
      "source": [
      "# Leereenheid 3.2 Analiseer en som data op."
      ],
      "metadata": {
        "id": "s-e_cn14mbEe"
      }
    },
    {
      "cell_type": "code",
      "source": [
        "# Trek data vanaf die web\n",
        "\n",
        "!wget https://raw.githubusercontent.com/aby-akademia/NGRDA150-2025/refs/heads/main/datastelle/verkope.csv"
      ],
      "metadata": {
        "id": "LqTFxeHgo3yV"
      },
      "execution_count": null,
      "outputs": []
    },
    {
      "cell_type": "code",
      "execution_count": null,
      "metadata": {
        "id": "wswUfv03680q"
      },
      "outputs": [],
      "source": [
        "# Laai die Pandas biblioteek\n",
        "\n",
        "import pandas as pd"
      ]
    },
    {
      "cell_type": "code",
      "source": [
        "# Laai die data\n",
        "\n",
        "data = pd.read_csv(\"verkope.csv\")"
      ],
      "metadata": {
        "id": "QmqSlQdkmacm"
      },
      "execution_count": null,
      "outputs": []
    },
    {
      "cell_type": "code",
      "source": [
        "# 1. Beskrywende statistieke vir \"Hoeveelheid\" en \"Prys\"\n",
        "\n",
        "print(\"Beskrywende statistieke:\")\n",
        "print(data[[\"Hoeveelheid\", \"Prys\"]].describe())"
      ],
      "metadata": {
        "id": "K3u8A8v7mXzj"
      },
      "execution_count": null,
      "outputs": []
    },
    {
      "cell_type": "code",
      "source": [
        "# 2. Gemiddelde, mediaan en modus handmatig bereken\n",
        "\n",
        "gemiddelde_hoeveelheid = data[\"Hoeveelheid\"].mean()\n",
        "mediaan_hoeveelheid = data[\"Hoeveelheid\"].median()\n",
        "modus_hoeveelheid = data[\"Hoeveelheid\"].mode()[0] # Neem die eerste modus as daar meer is\n",
        "\n",
        "print(f\"\\nGemiddelde hoeveelheid: {gemiddelde_hoeveelheid}\")\n",
        "print(f\"Mediaan hoeveelheid: {mediaan_hoeveelheid}\")\n",
        "print(f\"Modus hoeveelheid: {modus_hoeveelheid}\")"
      ],
      "metadata": {
        "id": "_nzJ5oUTpIsc"
      },
      "execution_count": null,
      "outputs": []
    },
    {
      "cell_type": "code",
      "source": [
        "# 3. Groepeer per produk en som op\n",
        "\n",
        "opsomming_per_produk = data.groupby(\"Produk\")[[\"Hoeveelheid\", \"Prys\"]].agg({\"Hoeveelheid\": \"sum\", \"Prys\": \"mean\"})\n",
        "print(\"\\nOpsomming per produk:\")\n",
        "print(opsomming_per_produk)"
      ],
      "metadata": {
        "id": "jLhHVfe5pR6C"
      },
      "execution_count": null,
      "outputs": []
    },
    {
      "cell_type": "code",
      "source": [
        "# 4. Identifiseer sleutelkenmerke (bv. uitskieter of hoë verkope)\n",
        "\n",
        "max_hoeveelheid = data[\"Hoeveelheid\"].max()\n",
        "max_datum = data.loc[data[\"Hoeveelheid\"].idxmax(), \"Datum\"]\n",
        "print(f\"\\nHoogste hoeveelheid verkoop: {max_hoeveelheid} op {max_datum}\")"
      ],
      "metadata": {
        "id": "Hwsqww5fpidK"
      },
      "execution_count": null,
      "outputs": []
    },
    {
      "cell_type": "code",
      "source": [
        "# 5. Die Python metode info() gee ook handige inligting oor die struktuur van jou data bv.:\n",
        "\n",
        "print(data.info())"
      ],
      "metadata": {
        "id": "AXgbV92hprmg"
      },
      "execution_count": null,
      "outputs": []
    }
  ]
}